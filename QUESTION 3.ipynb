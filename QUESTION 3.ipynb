{
 "cells": [
  {
   "cell_type": "markdown",
   "id": "d2e07cdc",
   "metadata": {},
   "source": [
    "# NUMBER OF ODD AND EVEN NUMBERS"
   ]
  },
  {
   "cell_type": "code",
   "execution_count": 2,
   "id": "0f9c4451",
   "metadata": {},
   "outputs": [
    {
     "name": "stdout",
     "output_type": "stream",
     "text": [
      "ENTER THE RANGE:  9\n",
      "The number of even numbers is 4\n",
      "The number of odd numbers is 5\n"
     ]
    }
   ],
   "source": [
    "N=int(input(\"ENTER THE RANGE:  \"))\n",
    "even_count=0\n",
    "odd_count=0\n",
    "for i in range(1,N+1):\n",
    "    if i%2==0:\n",
    "        even_count+=1\n",
    "    elif i%2!=0:\n",
    "        odd_count+=1\n",
    "print(\"The number of even numbers is\", even_count)\n",
    "print(\"The number of odd numbers is\", odd_count)    "
   ]
  },
  {
   "cell_type": "code",
   "execution_count": null,
   "id": "c434639e",
   "metadata": {},
   "outputs": [],
   "source": []
  }
 ],
 "metadata": {
  "kernelspec": {
   "display_name": "Python 3 (ipykernel)",
   "language": "python",
   "name": "python3"
  },
  "language_info": {
   "codemirror_mode": {
    "name": "ipython",
    "version": 3
   },
   "file_extension": ".py",
   "mimetype": "text/x-python",
   "name": "python",
   "nbconvert_exporter": "python",
   "pygments_lexer": "ipython3",
   "version": "3.10.1"
  }
 },
 "nbformat": 4,
 "nbformat_minor": 5
}
